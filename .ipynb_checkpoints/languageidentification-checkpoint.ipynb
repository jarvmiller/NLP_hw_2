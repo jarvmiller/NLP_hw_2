{
 "cells": [
  {
   "cell_type": "code",
   "execution_count": 1,
   "metadata": {},
   "outputs": [],
   "source": [
    "from sklearn.preprocessing import LabelBinarizer\n",
    "from sklearn.preprocessing import OneHotEncoder\n",
    "import string\n",
    "import numpy as np\n",
    "import math\n",
    "import matplotlib.pyplot as plt\n",
    "import time\n",
    "# start = time.time()"
   ]
  },
  {
   "cell_type": "code",
   "execution_count": 2,
   "metadata": {},
   "outputs": [
    {
     "name": "stdout",
     "output_type": "stream",
     "text": [
      "['a', 'b', 'c', 'd', 'e', 'f', 'g', 'h', 'i', 'j', 'k', 'l', 'm', 'n', 'o', 'p', 'q', 'r', 's', 't', 'u', 'v', 'w', 'x', 'y', 'z', 'à', 'â', 'ã', 'æ', 'ç', 'è', 'é', 'ê', 'ì', 'í', 'î', 'ï', 'ò', 'ó', 'ô', 'ù', 'ú', 'û', 'ü', 'ÿ', 'œ', ' ', '!', '?', '¿', '¡', '!', '\"', '#', '$', '%', '&', \"'\", '(', ')', '*', '+', ',', '-', '.', '/', ':', ';', '<', '=', '>', '?', '@', '[', '\\\\', ']', '^', '_', '`', '{', '|', '}', '~', '0', '1', '2', '3', '4', '5', '6', '7', '8', '9'] 94\n"
     ]
    }
   ],
   "source": [
    "def sigmoid_array(x):\n",
    "    # input: array\n",
    "    # output: sigmoid applied to each value of input array\n",
    "    return 1 / (1 + np.exp(-x))\n",
    "\n",
    "def softmax(x):\n",
    "    # input: array\n",
    "    # output: softmax of array\n",
    "    \"\"\"Compute softmax values for each sets of scores in x.\"\"\"\n",
    "    return np.exp(x) / np.sum(np.exp(x))\n",
    "\n",
    "\n",
    "def define_alphabet():\n",
    "    # creates list of alphabet to use when parsing text data\n",
    "    base_en = 'abcdefghijklmnopqrstuvwxyz'\n",
    "    special_chars = ' !?¿¡' + string.punctuation + string.digits\n",
    "    italian = 'àèéìíòóùúã'\n",
    "    french = 'àâæçéèêêîïôœùûüÿ'\n",
    "    all_lang_chars = base_en + italian + french \n",
    "    small_chars = list(set(list(all_lang_chars)))\n",
    "    small_chars.sort() \n",
    "    big_chars = list(set(list(all_lang_chars.upper())))\n",
    "    big_chars.sort()\n",
    "    small_chars += special_chars\n",
    "    letters_string = ''\n",
    "    letters = small_chars + big_chars\n",
    "    for letter in letters:\n",
    "        letters_string += letter\n",
    "    return small_chars,big_chars,letters_string\n",
    "\n",
    "alphabet, _, _ = define_alphabet()\n",
    "print(alphabet, len(alphabet))"
   ]
  },
  {
   "cell_type": "code",
   "execution_count": 3,
   "metadata": {},
   "outputs": [],
   "source": [
    "# fits labelBinarizer obj to alphabet so it can make one-hot encoding\n",
    "# c = unique characters between eng, fre, ital = 93\n",
    "# le = LabelBinarizer()\n",
    "# le.fit(alphabet)\n"
   ]
  },
  {
   "cell_type": "code",
   "execution_count": 4,
   "metadata": {},
   "outputs": [],
   "source": [
    "txt = ' '\n",
    "with open(\"languageIdentification.data/train\", 'r') as f:\n",
    "    txt += f.read()\n",
    "# with open(\"languageIdentification.data/dev\", 'r') as f:\n",
    "#     txt += f.read()\n",
    "# with open(\"languageIdentification.data/test\", 'r',encoding = 'latin-1') as f:\n",
    "#     txt += f.read()\n",
    "alphab = list(set(list(txt.lower())))\n",
    "input_dim = (len(alphab) + 1) * 5\n",
    "# print(len(alphab), input_dim)"
   ]
  },
  {
   "cell_type": "code",
   "execution_count": 5,
   "metadata": {},
   "outputs": [
    {
     "data": {
      "text/plain": [
       "LabelBinarizer(neg_label=0, pos_label=1, sparse_output=False)"
      ]
     },
     "execution_count": 5,
     "metadata": {},
     "output_type": "execute_result"
    }
   ],
   "source": [
    "le = LabelBinarizer()\n",
    "le.fit(alphab)\n"
   ]
  },
  {
   "cell_type": "code",
   "execution_count": 6,
   "metadata": {},
   "outputs": [],
   "source": [
    "def seq_chars(s, num_chars=5):\n",
    "    # input: string, s\n",
    "    # output: list of 5 sequential characters of string from beginning to end\n",
    "    n = len(s)\n",
    "    return [s[i:(i+num_chars)] for i in range(n-4)]\n",
    "\n",
    "def binarize(seq_str):\n",
    "    # input: sequence of characters\n",
    "    # output: concatenated one hot encoding of each character\n",
    "        # w/ dimension (5c, 1)\n",
    "    arr = []\n",
    "    if len(seq_str) == 0:\n",
    "        return np.zeros(shape = (1,input_dim))\n",
    "    for char in seq_str[0]:\n",
    "        # if character not in training data add 1 to 'other' category\n",
    "        if char not in alphab:\n",
    "            arr.append(np.append(le.transform([char])[0], 1))\n",
    "        else:\n",
    "            arr.append(np.append(le.transform([char])[0], 0))\n",
    "    return np.concatenate([np.array(i) for i in arr]).reshape(1, input_dim)\n",
    "\n"
   ]
  },
  {
   "cell_type": "code",
   "execution_count": 7,
   "metadata": {},
   "outputs": [],
   "source": [
    "# if youve not seen a char before, it's all zeros.. this may be the runtime error\n",
    "# binarize(seq_chars('ㄱㄱabㄱ')).shape\n",
    "# arr = []\n",
    "# for char in 'ㄱㄱabㄱ':\n",
    "#     if char not in alphab:\n",
    "#         arr.append(np.append(le.transform([char])[0], 1))\n",
    "#     else:\n",
    "#         arr.append(np.append(le.transform([char])[0], 0))\n",
    "# # [len(i) for i in arr]\n",
    "# np.concatenate([np.array(i) for i in arr]).reshape(1,input_dim).shape"
   ]
  },
  {
   "cell_type": "markdown",
   "metadata": {},
   "source": [
    "## Backprop functions"
   ]
  },
  {
   "cell_type": "markdown",
   "metadata": {},
   "source": [
    "$\\nabla_{y} L = y - \\hat{y}$"
   ]
  },
  {
   "cell_type": "code",
   "execution_count": 8,
   "metadata": {},
   "outputs": [],
   "source": [
    "def grad_l_wrt_y(y_pred, y_test):\n",
    "    return y_pred - y_test #(3,1)\n"
   ]
  },
  {
   "cell_type": "markdown",
   "metadata": {},
   "source": [
    "$\\nabla_{b^{2}} L = \\nabla_{y^{'}}L = \\sum_{i} \\frac{\\delta{L}}{\\delta{y_{i}}} y_{i}(\\delta{ij} - y_{j}) = \\sum_{i} (y_{i} - \\hat{y_{i}}) y_{i}(\\delta_{ij} - y_{j})$"
   ]
  },
  {
   "cell_type": "code",
   "execution_count": 9,
   "metadata": {},
   "outputs": [],
   "source": [
    "def grad_l_wrt_b2(y_pred, y_test):\n",
    "    vec = []\n",
    "    # for each yj\n",
    "    for j, val in enumerate(list(y_pred)):\n",
    "        counter = 0\n",
    "        # go over all values in yi\n",
    "        for i, val2 in enumerate(list(y_pred)):\n",
    "            if i == j:\n",
    "                counter += (y_pred[i] - y_test[i])*(y_pred[i])*(1-y_pred[j])\n",
    "            else:\n",
    "                counter += (y_pred[i] - y_test[i])*(y_pred[i])*(-y_pred[j])\n",
    "        vec.append(counter)\n",
    "    return np.array(vec)\n",
    "\n",
    "     \n",
    "  "
   ]
  },
  {
   "cell_type": "markdown",
   "metadata": {},
   "source": [
    "$\\nabla_{w^{2}} L = \\nabla_{y^{'}}L h^{T} = \\nabla_{b^{2}}L h^{T}$"
   ]
  },
  {
   "cell_type": "code",
   "execution_count": 10,
   "metadata": {},
   "outputs": [],
   "source": [
    "def grad_l_wrt_w2(grad_b2, hidden_layer):\n",
    "    # take grad wrt b^2 and mult by hidden layer\n",
    "    return grad_b2.dot(hidden_layer.T) #(3,1)*(1,d) is (3,d)\n",
    "\n"
   ]
  },
  {
   "cell_type": "markdown",
   "metadata": {},
   "source": [
    "$\\nabla_{h}L = W^{2T} \\nabla_{y^{'}}L = W^{2T} \\nabla_{b^{2}}L$"
   ]
  },
  {
   "cell_type": "code",
   "execution_count": 11,
   "metadata": {},
   "outputs": [],
   "source": [
    "def grad_l_wrt_h(grad_b2, W2):\n",
    "    return np.dot(W2.T, grad_b2) #(d,3)*(3,1) is (d,1)\n"
   ]
  },
  {
   "cell_type": "markdown",
   "metadata": {},
   "source": [
    "$\\frac{\\delta{L}}{\\delta{h^{'}_{i}}} = \\frac{\\delta{L}}{\\delta{h_{i}}} h_{i}(1-h_{i})$ ie multiply each elt in $\\nabla_{h}L$ by $h_{i}(1-h_{i})$"
   ]
  },
  {
   "cell_type": "code",
   "execution_count": 12,
   "metadata": {},
   "outputs": [],
   "source": [
    "def grad_l_wrt_h_tilde(grad_h, h_layer):\n",
    "    # does element wise multiplication\n",
    "    return grad_h * ((h_layer) * (1-h_layer)) # (d,1)(element mult)(d,1) is (d,1)\n",
    "\n",
    "#     vec = []\n",
    "#     for i in range(len(h_layer)):\n",
    "# #         print(\"mult:\", grad_h[i], (h_layer[i] * (1-h_layer[i])))\n",
    "#         vec.append(grad_h[i] * (h_layer[i] * (1-h_layer[i])))\n",
    "\n",
    "#     return np.array(vec)\n",
    "\n"
   ]
  },
  {
   "cell_type": "markdown",
   "metadata": {},
   "source": [
    "$\\nabla_{w^{1}} L = (\\nabla_{h^{'}}L)(x^{T})$"
   ]
  },
  {
   "cell_type": "code",
   "execution_count": 13,
   "metadata": {},
   "outputs": [],
   "source": [
    "def grad_l_wrt_w1(grad_h_tilde, input_x):\n",
    "    return np.dot(grad_h_tilde, input_x) #(d,1)*(1,5c) is (d,5c)\n",
    "\n"
   ]
  },
  {
   "cell_type": "markdown",
   "metadata": {},
   "source": [
    "$\\nabla_{b^{1}} L = (\\nabla_{h^{'}}L)$"
   ]
  },
  {
   "cell_type": "code",
   "execution_count": 14,
   "metadata": {},
   "outputs": [],
   "source": [
    "def grad_l_wrt_b1(grad_h_tilde):\n",
    "    return grad_h_tilde"
   ]
  },
  {
   "cell_type": "code",
   "execution_count": null,
   "metadata": {},
   "outputs": [],
   "source": []
  },
  {
   "cell_type": "code",
   "execution_count": null,
   "metadata": {},
   "outputs": [],
   "source": []
  },
  {
   "cell_type": "code",
   "execution_count": null,
   "metadata": {},
   "outputs": [],
   "source": []
  },
  {
   "cell_type": "code",
   "execution_count": null,
   "metadata": {},
   "outputs": [],
   "source": []
  },
  {
   "cell_type": "code",
   "execution_count": 15,
   "metadata": {},
   "outputs": [],
   "source": [
    "def create_input_matrix(filename):\n",
    "    with open(filename, 'r') as handle:\n",
    "        y_final = []\n",
    "#         final_mat = np.zeros(shape=(1,input_dim))\n",
    "        final_mat = []\n",
    "        for line in handle: # for each line\n",
    "            y_test = []\n",
    "\n",
    "\n",
    "            s = line.split()\n",
    "            label = s[0] # Eng, ital, or french\n",
    "            sentence = ' '.join(s[1:]).lower() # rest of sentence\n",
    "\n",
    "            # create (n, 5c) matrix. Each row is a (1, 5c) one hot encoding vector\n",
    "            # n is number of 5 seq characters in the sentence\n",
    "            encode_mat = binarize(seq_chars(sentence))\n",
    "#             final_mat = np.vstack([final_mat, encode_mat])\n",
    "            final_mat.append(encode_mat)\n",
    "            # accumulate pred for each (1,5c) vector\n",
    "            pred = np.zeros(3)\n",
    "\n",
    "            # create arbitrary label for each language\n",
    "            # as long as you're consistent\n",
    "\n",
    "\n",
    "\n",
    "            # for each 5 character encoder vector\n",
    "            for row in range(len(encode_mat)):\n",
    "                    # get that row\n",
    "                if label == \"ENGLISH\":\n",
    "                    y_test.append(1)\n",
    "                elif label == \"ITALIAN\":\n",
    "                    y_test.append(2)\n",
    "                else:\n",
    "                    y_test.append(3)\n",
    "            y_final.append(y_test)\n",
    "#     final_mat = np.delete(final_mat, (0), axis=0)\n",
    "    fin = np.vstack(final_mat)\n",
    "    fin_lab = np.concatenate([np.array(i) for i in y_final])\n",
    "    fin_fin = np.hstack([fin, fin_lab.reshape(len(fin_lab),1)])\n",
    "    return fin_fin"
   ]
  },
  {
   "cell_type": "code",
   "execution_count": 16,
   "metadata": {},
   "outputs": [],
   "source": [
    "# mat, lab = create_input_matrix(filename = \"languageIdentification.data/tiny_train\")\n",
    "# fin = np.vstack(mat)\n",
    "# fin_lab = np.concatenate([np.array(i) for i in lab])\n",
    "# tiny_train_mat = np.hstack([fin, fin_lab.reshape(len(fin_lab),1)])\n",
    "\n"
   ]
  },
  {
   "cell_type": "code",
   "execution_count": 17,
   "metadata": {},
   "outputs": [],
   "source": [
    "# import time\n",
    "# start = time.time()\n",
    "# mat, lab = create_input_matrix(filename = \"languageIdentification.data/train\")\n",
    "# end = time.time()\n",
    "# print(end-start)\n",
    "# takes about 5.5 minutes"
   ]
  },
  {
   "cell_type": "code",
   "execution_count": 18,
   "metadata": {},
   "outputs": [],
   "source": [
    "# print(tiny_train_mat.shape)\n",
    "# print(len(mat), len(lab))"
   ]
  },
  {
   "cell_type": "code",
   "execution_count": 19,
   "metadata": {},
   "outputs": [],
   "source": [
    "# train_mat = create_input_matrix(filename = \"languageIdentification.data/train\")\n",
    "\n",
    "# fin = np.vstack(mat)\n",
    "# fin_lab = np.concatenate([np.array(i) for i in lab])\n",
    "\n",
    "# fin_fin = np.hstack([fin, fin_lab.reshape(len(fin_lab),1)])"
   ]
  },
  {
   "cell_type": "code",
   "execution_count": null,
   "metadata": {},
   "outputs": [],
   "source": []
  },
  {
   "cell_type": "code",
   "execution_count": 20,
   "metadata": {},
   "outputs": [],
   "source": [
    "# fin_fin.shape"
   ]
  },
  {
   "cell_type": "code",
   "execution_count": 21,
   "metadata": {},
   "outputs": [],
   "source": [
    "def forward(x, W1, bias1, W2, bias2):\n",
    "    # input: \n",
    "        #(5c,1) input vector\n",
    "        # (d,5c) weight matrix W1\n",
    "        # (d,1) bias vector\n",
    "        # (3,d) weight matrix W2\n",
    "        # (3,1) bias vector\n",
    "    # output:\n",
    "        # (d, 1) hidden layer\n",
    "        # (3, 1) predicted vector, y\n",
    "    hidden_layer = sigmoid_array(np.dot(W1, x.T) + bias1)\n",
    "    y = softmax(np.dot(W2, hidden_layer) + bias2)\n",
    "    return hidden_layer, y\n",
    "\n",
    "\n",
    "def backprop(y_pred, y_test, h_layer, input_x, W1, bias1, W2, bias2, eta=.1):   \n",
    "    # input: ingredients for calculating gradients\n",
    "    # output: W1, bias1, W2, bias2 after backprop\n",
    "    \n",
    "    grad_l_y = grad_l_wrt_y(y_pred, y_test)\n",
    "#     print('grad_l_y shape is {}'.format(grad_l_y.shape))\n",
    "#     print(grad_l_y)\n",
    "\n",
    "    grad_l_b2 = grad_l_wrt_b2(y_pred, y_test)\n",
    "#     print(grad_l_b2)\n",
    "#     print('grad_l_b2 shape is {}'.format(grad_l_b2.shape))\n",
    "\n",
    "    grad_l_w2 = grad_l_wrt_w2(grad_l_b2, h_layer)\n",
    "#     print(grad_l_w2)\n",
    "#     print('grad_l_w2 shape is {}'.format(grad_l_w2.shape))\n",
    "\n",
    "    grad_l_h = grad_l_wrt_h(grad_l_b2, W2)\n",
    "#     print(grad_l_h)\n",
    "#     print('grad_l_h shape is {}'.format(grad_l_h.shape))\n",
    "\n",
    "    grad_h_tilde = grad_l_wrt_h_tilde(grad_l_h, h_layer)\n",
    "#     print(grad_h_tilde)\n",
    "#     print('grad_h_tilde shape is {}'.format(grad_h_tilde.shape))\n",
    "\n",
    "    grad_l_w1 = grad_l_wrt_w1(grad_h_tilde, input_x)\n",
    "#     print(grad_l_w1)\n",
    "#     print('grad_l_w1 shape is {}'.format(grad_l_w1.shape))\n",
    "\n",
    "    grad_l_b1 = grad_l_wrt_b1(grad_h_tilde)\n",
    "#     print(grad_l_b1)\n",
    "#     print('grad_l_b1 shape is {}'.format(grad_l_b1.shape))\n",
    "\n",
    "    W1 = W1 - eta * grad_l_w1\n",
    "    W2 = W2 - eta * grad_l_w2\n",
    "    bias2 = bias2 - eta * grad_l_b2\n",
    "    bias1 = bias1 - eta * grad_l_b1\n",
    "\n",
    "    return W1, bias1, W2, bias2\n",
    "\n"
   ]
  },
  {
   "cell_type": "code",
   "execution_count": null,
   "metadata": {},
   "outputs": [],
   "source": []
  },
  {
   "cell_type": "code",
   "execution_count": 22,
   "metadata": {},
   "outputs": [],
   "source": [
    "def train_nn(train_data, W1, bias1, W2, bias2):\n",
    "    \n",
    "    train_labels = train_data[:,-1]\n",
    "    train_data = np.delete(train_data, (-1), axis=1)\n",
    "\n",
    "    # for each 5 character encoder vector\n",
    "    for ind in range(len(train_data)):\n",
    "        # create arbitrary label for each language\n",
    "        if train_labels[ind] == 1: # english\n",
    "            y_test = np.array([0,1,0])\n",
    "        elif train_labels[ind] == 2: # italian\n",
    "            y_test = np.array([1,0,0])\n",
    "        else:\n",
    "            y_test = np.array([0,0,1])\n",
    "\n",
    "\n",
    "        # get that row\n",
    "        input_x = train_data[ind, :].reshape(1,input_dim)\n",
    "        \n",
    "        # forward prop\n",
    "        h_layer, y_pred = forward(input_x, W1, bias1, W2, bias2)\n",
    "        # backwards prop\n",
    "        W1, bias1, W2, bias2 = backprop(y_pred.reshape(3,1), y_test, h_layer, \n",
    "                                        input_x, W1, bias1, W2, bias2, eta=eta)\n",
    "\n",
    "    return W1, bias1, W2, bias2"
   ]
  },
  {
   "cell_type": "code",
   "execution_count": 23,
   "metadata": {
    "scrolled": true
   },
   "outputs": [],
   "source": [
    "def test_nn(filename, W1, bias1, W2, bias2, file2=None):\n",
    "    loss_li = []\n",
    "    counter = 0\n",
    "    code = 'utf-8'\n",
    "    # if testing on test set\n",
    "    if file2 is not None:\n",
    "        code = 'latin-1'\n",
    "        with open(file2, 'r') as f:\n",
    "            lines = f.read().lower().splitlines()\n",
    "\n",
    "    with open(filename, 'r', encoding=code) as handle:\n",
    "        num_chances = 0 # number of lines in text file\n",
    "        num_correct = 0 \n",
    "        for line in handle: # for each line\n",
    "            num_chances += 1\n",
    "            if line.split()[0] in ['ENGLISH', 'ITALIAN', 'FRENCH']:\n",
    "                # make sure to do a try except for this for the testing file\n",
    "                s = line.split()\n",
    "                label = s[0].lower() # Eng, ital, or french\n",
    "                sentence = ' '.join(s[1:]).lower() # rest of sentence\n",
    "            else:\n",
    "                sentence = line.lower()\n",
    "                label = lines[counter]\n",
    "                counter += 1\n",
    "\n",
    "            # create (n, 5c) matrix. Each row is a (1, 5c) one hot encoding vector\n",
    "            # n is number of 5 seq characters in the sentence\n",
    "            encode_mat = binarize(seq_chars(sentence))\n",
    "\n",
    "            # accumulate pred for each (1,5c) vector\n",
    "            pred = np.zeros(3)\n",
    "\n",
    "            # create arbitrary label for each language\n",
    "            # as long as you're consistent\n",
    "            if \"english\" in label:\n",
    "                y_test = np.array([0,1,0])\n",
    "            elif 'italian' in label:\n",
    "                y_test = np.array([1,0,0])\n",
    "            else:\n",
    "                y_test = np.array([0,0,1])\n",
    "\n",
    "            num_rows = 0\n",
    "\n",
    "            # for each 5 character encoder vector\n",
    "            for row in range(len(encode_mat)):\n",
    "                # get that row\n",
    "                input_x = encode_mat[row,:].reshape(1,input_dim)\n",
    "                num_rows += 1\n",
    "\n",
    "                # forward prop\n",
    "                h_layer, y_pred = forward(input_x, W1, bias1, W2, bias2)\n",
    "                # accumulate softmax\n",
    "                pred += y_pred.reshape(3,)\n",
    "\n",
    "            # AFTER a single sentence/row is done\n",
    "            pred_avg = pred / num_rows  # avg prediction over all 5 character sequences\n",
    "            loss = np.square(pred_avg - y_test).sum()# calculate loss over pred_avg\n",
    "            loss_li.append(loss)\n",
    "            pred_final = np.zeros(3)\n",
    "            # get index of max probability of pred_avg to make final prediction\n",
    "            pred_final[np.argmax(pred_avg)] = 1\n",
    "\n",
    "            if np.all(pred_final - y_test == np.array([0,0,0])):\n",
    "                num_correct += 1\n",
    "\n",
    "    # after going through all lines\n",
    "    accuracy = num_correct / num_chances\n",
    "    return accuracy, loss_li\n",
    "\n"
   ]
  },
  {
   "cell_type": "code",
   "execution_count": null,
   "metadata": {},
   "outputs": [],
   "source": []
  },
  {
   "cell_type": "code",
   "execution_count": 24,
   "metadata": {},
   "outputs": [],
   "source": [
    "np.random.seed(1)\n",
    "d = 100\n",
    "eta = 0.1\n",
    "\n",
    "W1 = np.random.uniform(size=(d, input_dim))\n",
    "bias1 = np.random.uniform(size=[d,1])\n",
    "W2 = np.random.uniform(size=(3,d))\n",
    "bias2 = np.random.uniform(size=[3, 1])\n",
    "eta = 0.1\n",
    "\n",
    "teeny_mat = create_input_matrix(filename = \"languageIdentification.data/teeny_tiny_train.txt\")\n",
    "# np.random.shuffle(teeny_mat)\n",
    "loss_accum = []\n",
    "# print(teeny_mat.shape)\n"
   ]
  },
  {
   "cell_type": "code",
   "execution_count": 25,
   "metadata": {},
   "outputs": [],
   "source": [
    "for i in range(350):\n",
    "    np.random.shuffle(teeny_mat)\n",
    "    W1, bias1, W2, bias2 = train_nn(teeny_mat, W1, bias1, W2, bias2)\n",
    "    accuracy, loss_li = test_nn(\"languageIdentification.data/teeny_tiny_train.txt\", W1, bias1, W2, bias2)\n",
    "#     print(accuracy)\n",
    "#     plt.plot(np.array(loss_li))\n",
    "#     plt.show()\n",
    "    loss_accum.append(loss_li[0])\n"
   ]
  },
  {
   "cell_type": "code",
   "execution_count": 26,
   "metadata": {},
   "outputs": [
    {
     "data": {
      "image/png": "[encoded data removed]",
      "text/plain": [
       "<matplotlib.figure.Figure at 0x110ec69b0>"
      ]
     },
     "metadata": {},
     "output_type": "display_data"
    }
   ],
   "source": [
    "plt.plot(loss_accum)\n",
    "plt.show()\n"
   ]
  },
  {
   "cell_type": "markdown",
   "metadata": {},
   "source": [
    "## part A"
   ]
  },
  {
   "cell_type": "code",
   "execution_count": 59,
   "metadata": {},
   "outputs": [],
   "source": [
    "d, eta = 100, .1\n",
    "\n",
    "\n",
    "W1 = np.random.uniform(size=(d, input_dim))\n",
    "bias1 = np.random.uniform(size=[d,1])\n",
    "W2 = np.random.uniform(size=(3,d))\n",
    "bias2 = np.random.uniform(size=[3, 1])\n",
    "eta = 0.1\n",
    "tiny_train_mat = create_input_matrix(filename = \"languageIdentification.data/tiny_train\")\n",
    "# end1 = time.time()\n",
    "\n",
    "\n",
    "acc_li_train = []\n",
    "acc_li_dev = []\n",
    "loss_acum = []\n",
    "# train 3 times\n",
    "for i in range(3):\n",
    "    # get test before training, and after each train\n",
    "    accuracy_t, _ = test_nn(\"languageIdentification.data/tiny_train\", W1, bias1, W2, bias2)\n",
    "    accuracy_d, loss_li = test_nn(\"languageIdentification.data/dev\", W1, bias1, W2, bias2)\n",
    "\n",
    "\n",
    "    acc_li_train.append(accuracy_t)\n",
    "    acc_li_dev.append(accuracy_d)\n",
    "    loss_accum.append(loss_li)\n",
    "    # train\n",
    "    np.random.shuffle(tiny_train_mat)\n",
    "    W1, bias1, W2, bias2 = train_nn(tiny_train_mat, W1, bias1, W2, bias2)\n",
    "\n",
    "\n"
   ]
  },
  {
   "cell_type": "code",
   "execution_count": 60,
   "metadata": {},
   "outputs": [
    {
     "data": {
      "image/png": "[encoded data removed]",
      "text/plain": [
       "<matplotlib.figure.Figure at 0x115749470>"
      ]
     },
     "metadata": {},
     "output_type": "display_data"
    },
    {
     "data": {
      "text/plain": [
       "[0.38461538461538464, 0.358974358974359, 0.38461538461538464]"
      ]
     },
     "execution_count": 60,
     "metadata": {},
     "output_type": "execute_result"
    }
   ],
   "source": [
    "plt.plot(acc_li_train)\n",
    "plt.show()\n",
    "acc_li_train"
   ]
  },
  {
   "cell_type": "code",
   "execution_count": 62,
   "metadata": {},
   "outputs": [
    {
     "data": {
      "image/png": "[encoded data removed]",
      "text/plain": [
       "<matplotlib.figure.Figure at 0x115ff6eb8>"
      ]
     },
     "metadata": {},
     "output_type": "display_data"
    },
    {
     "data": {
      "text/plain": [
       "[0.334, 0.347, 0.334]"
      ]
     },
     "execution_count": 62,
     "metadata": {},
     "output_type": "execute_result"
    }
   ],
   "source": [
    "plt.plot(acc_li_dev)\n",
    "plt.show()\n",
    "acc_li_dev"
   ]
  },
  {
   "cell_type": "code",
   "execution_count": 63,
   "metadata": {},
   "outputs": [
    {
     "data": {
      "image/png": "[encoded data removed]",
      "text/plain": [
       "<matplotlib.figure.Figure at 0x11612bc88>"
      ]
     },
     "metadata": {},
     "output_type": "display_data"
    }
   ],
   "source": []
  },
  {
   "cell_type": "markdown",
   "metadata": {},
   "source": [
    "## part b"
   ]
  },
  {
   "cell_type": "code",
   "execution_count": 31,
   "metadata": {},
   "outputs": [],
   "source": [
    "set1 = (50, .05)\n",
    "set2 = (100, .05)\n",
    "set3 = (50, .5)\n",
    "set4 = (200, .5)\n",
    "set5 = (25, .01)\n",
    "list_params = [set1, set2, set3, set4, set5]\n",
    "dict_params = {}"
   ]
  },
  {
   "cell_type": "code",
   "execution_count": 32,
   "metadata": {},
   "outputs": [],
   "source": [
    "np.random.seed(1)\n",
    "# tiny_train_mat = create_input_matrix(filename = \"languageIdentification.data/tiny_train\")\n",
    "\n",
    "\n",
    "for params in list_params:\n",
    "    d, eta = params\n",
    "\n",
    "    W1 = np.random.uniform(size=(d, input_dim))\n",
    "    bias1 = np.random.uniform(size=[d,1])\n",
    "    W2 = np.random.uniform(size=(3,d))\n",
    "    bias2 = np.random.uniform(size=[3, 1])\n",
    "    eta = 0.1\n",
    "    # end1 = time.time()\n",
    "\n",
    "\n",
    "    acc_li_train = []\n",
    "    acc_li_dev = []\n",
    "    loss_acum = []\n",
    "    # train 3 times\n",
    "    for i in range(3):\n",
    "        # get test before training, and after each train\n",
    "#         accuracy_t, _ = test_nn(\"languageIdentification.data/tiny_train\", W1, bias1, W2, bias2)\n",
    "#         accuracy_d, loss_li = test_nn(\"languageIdentification.data/dev\", W1, bias1, W2, bias2)\n",
    "\n",
    "\n",
    "#         acc_li_train.append(accuracy_t)\n",
    "#         acc_li_dev.append(accuracy_d)\n",
    "#         loss_accum.append(loss_li)\n",
    "        # train\n",
    "        np.random.shuffle(tiny_train_mat)\n",
    "        W1, bias1, W2, bias2 = train_nn(tiny_train_mat, W1, bias1, W2, bias2)\n",
    "    \n",
    "    # test on dev data after training 3 times\n",
    "    accuracy_d, loss_li = test_nn(\"languageIdentification.data/dev\", W1, bias1, W2, bias2)\n",
    "    dict_params[params] = [accuracy_d, W1, bias1, W2, bias2]"
   ]
  },
  {
   "cell_type": "code",
   "execution_count": 33,
   "metadata": {},
   "outputs": [
    {
     "name": "stdout",
     "output_type": "stream",
     "text": [
      "(50, 0.05)\n"
     ]
    }
   ],
   "source": [
    "list_keys = list(dict_params.keys())\n",
    "best_so_far = list_keys[0]\n",
    "for key in list_keys:\n",
    "    if dict_params[best_so_far][0] < dict_params[key][0]:\n",
    "        best_so_far = key\n",
    "print(best_so_far)"
   ]
  },
  {
   "cell_type": "code",
   "execution_count": 56,
   "metadata": {},
   "outputs": [],
   "source": [
    "# i already have the w1, b1, etc for the best combo\n",
    "W1_best, bias1_best, W2_best, bias2_best = dict_params[best_so_far][1:]\n",
    "accuracy_test, loss_li = test_nn(\"languageIdentification.data/test\", W1_best, bias1_best,\n",
    "                                 W2_best, bias2_best, 'languageIdentification.data/test_solutions')"
   ]
  },
  {
   "cell_type": "code",
   "execution_count": 57,
   "metadata": {},
   "outputs": [
    {
     "name": "stdout",
     "output_type": "stream",
     "text": [
      "0.38333333333333336\n"
     ]
    },
    {
     "data": {
      "image/png": "[encoded data removed]",
      "text/plain": [
       "<matplotlib.figure.Figure at 0x115c1f780>"
      ]
     },
     "metadata": {},
     "output_type": "display_data"
    }
   ],
   "source": [
    "print(accuracy_test)\n",
    "plt.plot(loss_li)\n",
    "plt.show()"
   ]
  },
  {
   "cell_type": "code",
   "execution_count": 36,
   "metadata": {},
   "outputs": [],
   "source": [
    "# print(acc_li_train)\n",
    "# print(acc_li_dev)\n",
    "# # plt.plot(np.array(loss_li))\n",
    "# # plt.show()\n",
    "# # print(sum(loss_li))"
   ]
  },
  {
   "cell_type": "code",
   "execution_count": null,
   "metadata": {},
   "outputs": [],
   "source": []
  },
  {
   "cell_type": "code",
   "execution_count": 37,
   "metadata": {},
   "outputs": [],
   "source": [
    "# print(bias2)\n",
    "# W1, bias1, W2, bias2 = train_nn(tiny_train_mat, W1, bias1, W2, bias2)\n",
    "# print(bias2)\n",
    "# accuracy, loss_li = test_nn(\"languageIdentification.data/train\", W1, bias1, W2, bias2)\n",
    "# print(accuracy)\n",
    "# plt.plot(np.array(loss_li))\n",
    "# # plt.show()\n",
    "# print(sum(loss_li))"
   ]
  },
  {
   "cell_type": "code",
   "execution_count": 38,
   "metadata": {},
   "outputs": [],
   "source": [
    "# # dev testing\n",
    "# accuracy, loss_li = test_nn(\"languageIdentification.data/dev\", W1, bias1, W2, bias2)\n",
    "# print(accuracy)\n",
    "# plt.plot(np.array(loss_li))\n",
    "# plt.show()\n",
    "# print(sum(loss_li))"
   ]
  },
  {
   "cell_type": "code",
   "execution_count": 39,
   "metadata": {},
   "outputs": [],
   "source": [
    "# np.random.shuffle(tiny_train_mat)"
   ]
  },
  {
   "cell_type": "code",
   "execution_count": 40,
   "metadata": {},
   "outputs": [],
   "source": [
    "# print(bias2)\n",
    "# W1, bias1, W2, bias2 = train_nn(tiny_train_mat, W1, bias1, W2, bias2)\n",
    "# print(bias2)\n",
    "# accuracy, loss_li = test_nn(\"languageIdentification.data/train\", W1, bias1, W2, bias2)\n",
    "# print(accuracy)\n",
    "# plt.plot(np.array(loss_li))\n",
    "# plt.show()\n",
    "# print(sum(loss_li))"
   ]
  },
  {
   "cell_type": "code",
   "execution_count": null,
   "metadata": {},
   "outputs": [],
   "source": []
  },
  {
   "cell_type": "code",
   "execution_count": 41,
   "metadata": {},
   "outputs": [],
   "source": [
    "# # dev testing\n",
    "# accuracy, loss_li = test_nn(\"languageIdentification.data/dev\", W1, bias1, W2, bias2)\n",
    "# print(accuracy)\n",
    "# print(sum(loss_li))"
   ]
  },
  {
   "cell_type": "code",
   "execution_count": 42,
   "metadata": {},
   "outputs": [],
   "source": [
    "# plt.plot(np.array(loss_li))\n",
    "# plt.show()"
   ]
  },
  {
   "cell_type": "code",
   "execution_count": 43,
   "metadata": {},
   "outputs": [],
   "source": [
    "# # test testing\n",
    "# accuracy, loss_li = test_nn(\"languageIdentification.data/test\", W1, bias1, \n",
    "#                             W2, bias2,\"languageIdentification.data/test_solutions\")\n",
    "# print(accuracy)\n",
    "# plt.plot(np.array(loss_li))\n",
    "# plt.show()\n",
    "# print(sum(loss_li))\n",
    "# end2 = time.time()"
   ]
  },
  {
   "cell_type": "code",
   "execution_count": 44,
   "metadata": {},
   "outputs": [],
   "source": [
    "# .46, .65, .81\n",
    "# dev: .715"
   ]
  },
  {
   "cell_type": "code",
   "execution_count": 45,
   "metadata": {},
   "outputs": [],
   "source": [
    "# .49, .73, .51\n",
    "# dev: .571"
   ]
  },
  {
   "cell_type": "code",
   "execution_count": 46,
   "metadata": {},
   "outputs": [],
   "source": [
    "# 2315 / 60"
   ]
  },
  {
   "cell_type": "code",
   "execution_count": 47,
   "metadata": {},
   "outputs": [],
   "source": [
    "# print(\"time to create train matrix\", end1-start)\n",
    "# print('time to finish all training and testing', end2-start) # 40 minutes"
   ]
  },
  {
   "cell_type": "code",
   "execution_count": 48,
   "metadata": {},
   "outputs": [],
   "source": [
    "# np.random.seed(1)\n",
    "# d = 100\n",
    "# eta = 0.1\n",
    "\n",
    "# W1 = np.random.uniform(size=(3, input_dim))\n",
    "# bias1 = np.random.uniform(size=[3,1])\n",
    "# W2 = np.random.uniform(size=(3,3))\n",
    "# bias2 = np.random.uniform(size=[3, 1])\n",
    "# eta = 0.1\n",
    "\n",
    "# teeny_mat = create_input_matrix(filename = \"languageIdentification.data/teeny_tiny_train.txt\")\n",
    "# # np.random.shuffle(teeny_mat)"
   ]
  },
  {
   "cell_type": "code",
   "execution_count": 49,
   "metadata": {},
   "outputs": [],
   "source": [
    "# accuracy, loss_li = test_nn(\"languageIdentification.data/teeny_tiny_train.txt\", W1_new, bias1_new, W2_new, bias2_new)"
   ]
  },
  {
   "cell_type": "code",
   "execution_count": 50,
   "metadata": {},
   "outputs": [],
   "source": [
    "# ex = teeny_mat[0,0:415]\n",
    "# h_layer, y_pred = forward(ex, W1, bias1, W2, bias2)\n",
    "# print(h_layer, y_pred.sum())"
   ]
  },
  {
   "cell_type": "code",
   "execution_count": 51,
   "metadata": {},
   "outputs": [],
   "source": [
    "# # h_layer works\n",
    "# a = np.dot(ex, W1.T) + bias1\n",
    "# for val in a:\n",
    "#     print(1/(1+np.exp(-val)))"
   ]
  },
  {
   "cell_type": "code",
   "execution_count": 52,
   "metadata": {},
   "outputs": [],
   "source": [
    "# b = np.dot(W2, h_layer) + bias2"
   ]
  },
  {
   "cell_type": "code",
   "execution_count": 53,
   "metadata": {},
   "outputs": [],
   "source": [
    "# # y_pred works\n",
    "# print(np.exp(b) / np.exp(b).sum())\n",
    "# print(y_pred)"
   ]
  },
  {
   "cell_type": "code",
   "execution_count": null,
   "metadata": {},
   "outputs": [],
   "source": []
  },
  {
   "cell_type": "code",
   "execution_count": 54,
   "metadata": {},
   "outputs": [],
   "source": [
    "# W1_new"
   ]
  },
  {
   "cell_type": "code",
   "execution_count": null,
   "metadata": {},
   "outputs": [],
   "source": []
  },
  {
   "cell_type": "code",
   "execution_count": null,
   "metadata": {},
   "outputs": [],
   "source": []
  },
  {
   "cell_type": "code",
   "execution_count": null,
   "metadata": {},
   "outputs": [],
   "source": []
  }
 ],
 "metadata": {
  "kernelspec": {
   "display_name": "Python 3",
   "language": "python",
   "name": "python3"
  },
  "language_info": {
   "codemirror_mode": {
    "name": "ipython",
    "version": 3
   },
   "file_extension": ".py",
   "mimetype": "text/x-python",
   "name": "python",
   "nbconvert_exporter": "python",
   "pygments_lexer": "ipython3",
   "version": "3.6.1"
  }
 },
 "nbformat": 4,
 "nbformat_minor": 2
}
